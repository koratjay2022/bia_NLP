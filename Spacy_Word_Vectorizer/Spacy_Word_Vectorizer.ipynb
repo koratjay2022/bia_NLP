{
 "cells": [
  {
   "cell_type": "code",
   "execution_count": 9,
   "metadata": {},
   "outputs": [],
   "source": [
    "import spacy"
   ]
  },
  {
   "cell_type": "code",
   "execution_count": 10,
   "metadata": {},
   "outputs": [],
   "source": [
    "nlp = spacy.load('en_core_web_lg')"
   ]
  },
  {
   "cell_type": "code",
   "execution_count": 11,
   "metadata": {},
   "outputs": [
    {
     "name": "stdout",
     "output_type": "stream",
     "text": [
      "dog vector: True OOV: False\n",
      "cat vector: True OOV: False\n",
      "banana vector: True OOV: False\n",
      "cow vector: True OOV: False\n"
     ]
    },
    {
     "data": {
      "text/plain": [
       "(300,)"
      ]
     },
     "execution_count": 11,
     "metadata": {},
     "output_type": "execute_result"
    }
   ],
   "source": [
    "doc = nlp(\"dog cat banana cow\")\n",
    "\n",
    "# oov :- vector\n",
    "for token in doc:\n",
    "    print(token.text, \"vector:\", token.has_vector, \"OOV:\", token.is_oov)\n",
    "doc[0].vector.shape"
   ]
  },
  {
   "cell_type": "code",
   "execution_count": 12,
   "metadata": {},
   "outputs": [
    {
     "data": {
      "text/plain": [
       "(300,)"
      ]
     },
     "execution_count": 12,
     "metadata": {},
     "output_type": "execute_result"
    }
   ],
   "source": [
    "base_token = nlp('bread')\n",
    "base_token.vector.shape"
   ]
  },
  {
   "cell_type": "code",
   "execution_count": 16,
   "metadata": {},
   "outputs": [
    {
     "name": "stdout",
     "output_type": "stream",
     "text": [
      "bread <-> bread: 1.0000\n",
      "sandwich <-> bread: 0.6875\n",
      "bar <-> bread: 0.3131\n",
      "food <-> bread: 0.5982\n",
      "jay <-> bread: 0.1302\n",
      "meet <-> bread: 0.1506\n",
      "man <-> bread: 0.3024\n",
      "woman <-> bread: 0.2551\n",
      "mouse <-> bread: 0.1684\n",
      "vscod <-> bread: 0.0000\n",
      "mobile <-> bread: 0.1148\n",
      "apple <-> bread: 0.5073\n",
      "wheat <-> bread: 0.6572\n",
      "banana <-> bread: 0.5847\n"
     ]
    },
    {
     "name": "stderr",
     "output_type": "stream",
     "text": [
      "C:\\Users\\jay\\AppData\\Local\\Temp\\ipykernel_1888\\1513350055.py:4: UserWarning: [W008] Evaluating Token.similarity based on empty vectors.\n",
      "  print(f\"{token.text} <-> {base_token.text}: {token.similarity(base_token):.4f}\")\n"
     ]
    }
   ],
   "source": [
    "doc = nlp(\"bread sandwich bar food jay meet man woman mouse vscod mobile apple wheat banana\")\n",
    "for token in doc:\n",
    "    # print(f\"{token.text} <-> {base_token.text}:\",token.similarity(base_token))\n",
    "    print(f\"{token.text} <-> {base_token.text}: {token.similarity(base_token):.4f}\")"
   ]
  },
  {
   "cell_type": "code",
   "execution_count": 17,
   "metadata": {},
   "outputs": [],
   "source": [
    "def print_similarity(base_word,word_to_compare):\n",
    "    base_token = nlp(base_word)\n",
    "    doc = nlp(word_to_compare)\n",
    "    for token in doc:\n",
    "        print(f\"{token.text} <-> {base_token.text}:\",token.similarity(base_token))"
   ]
  },
  {
   "cell_type": "code",
   "execution_count": 22,
   "metadata": {},
   "outputs": [
    {
     "name": "stdout",
     "output_type": "stream",
     "text": [
      "apple <-> iphone: 0.6339781284332275\n",
      "samsung <-> iphone: 0.6678677797317505\n",
      "dog <-> iphone: 0.1743103712797165\n",
      "kitten <-> iphone: 0.1468581259250641\n",
      "apple <-> iphone: 0.6339781284332275\n",
      "iphone <-> iphone: 1.0\n"
     ]
    }
   ],
   "source": [
    "print_similarity(\"iphone\",\"apple samsung dog kitten apple iphone\")"
   ]
  },
  {
   "cell_type": "code",
   "execution_count": null,
   "metadata": {},
   "outputs": [],
   "source": []
  }
 ],
 "metadata": {
  "kernelspec": {
   "display_name": "bia",
   "language": "python",
   "name": "python3"
  },
  "language_info": {
   "codemirror_mode": {
    "name": "ipython",
    "version": 3
   },
   "file_extension": ".py",
   "mimetype": "text/x-python",
   "name": "python",
   "nbconvert_exporter": "python",
   "pygments_lexer": "ipython3",
   "version": "3.10.14"
  }
 },
 "nbformat": 4,
 "nbformat_minor": 2
}
